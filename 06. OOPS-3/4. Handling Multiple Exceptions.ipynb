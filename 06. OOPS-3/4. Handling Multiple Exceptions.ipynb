{
 "cells": [
  {
   "cell_type": "code",
   "execution_count": 2,
   "metadata": {
    "scrolled": true
   },
   "outputs": [
    {
     "name": "stdout",
     "output_type": "stream",
     "text": [
      "ENTER THE VALUE:1\n",
      "ENTER THE VALUE:s\n",
      "A & B SHOULD BE INTEGER\n",
      "ENTER THE VALUE:12\n",
      "ENTER THE VALUE:0\n",
      "B SHOULD NOT BE ZERO\n",
      "ENTER THE VALUE:9\n",
      "ENTER THE VALUE:3\n",
      "3.0\n"
     ]
    }
   ],
   "source": [
    "while True:    \n",
    "    try:   \n",
    "        A = int(input('ENTER THE VALUE:'))\n",
    "        B = int(input('ENTER THE VALUE:'))\n",
    "        print(A/B)\n",
    "        break\n",
    "    except ValueError:\n",
    "        print('A & B SHOULD BE INTEGER')\n",
    "    except ZeroDivisionError:\n",
    "        print('B SHOULD NOT BE ZERO')"
   ]
  },
  {
   "cell_type": "code",
   "execution_count": 3,
   "metadata": {},
   "outputs": [
    {
     "name": "stdout",
     "output_type": "stream",
     "text": [
      "ENTER THE VALUE:3\n",
      "ENTER THE VALUE:a\n",
      "A & B SHOULD BE INTEGER & B SHOULD NOT BE ZERO\n",
      "ENTER THE VALUE:2\n",
      "ENTER THE VALUE:0\n",
      "A & B SHOULD BE INTEGER & B SHOULD NOT BE ZERO\n",
      "ENTER THE VALUE:12\n",
      "ENTER THE VALUE:6\n",
      "2.0\n"
     ]
    }
   ],
   "source": [
    "while True:    \n",
    "    try:   \n",
    "        A = int(input('ENTER THE VALUE:'))\n",
    "        B = int(input('ENTER THE VALUE:'))\n",
    "        print(A/B)\n",
    "        break\n",
    "    except (ValueError,ZeroDivisionError):\n",
    "        print('A & B SHOULD BE INTEGER & B SHOULD NOT BE ZERO')"
   ]
  }
 ],
 "metadata": {
  "kernelspec": {
   "display_name": "Python 3",
   "language": "python",
   "name": "python3"
  },
  "language_info": {
   "codemirror_mode": {
    "name": "ipython",
    "version": 3
   },
   "file_extension": ".py",
   "mimetype": "text/x-python",
   "name": "python",
   "nbconvert_exporter": "python",
   "pygments_lexer": "ipython3",
   "version": "3.8.5"
  }
 },
 "nbformat": 4,
 "nbformat_minor": 4
}
