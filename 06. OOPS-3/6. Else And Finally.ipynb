{
 "cells": [
  {
   "cell_type": "code",
   "execution_count": 4,
   "metadata": {
    "scrolled": false
   },
   "outputs": [
    {
     "name": "stdout",
     "output_type": "stream",
     "text": [
      "2\n",
      "s\n",
      "A & B SHOULD BE INTEGER\n",
      "2\n",
      "2\n",
      "1.0\n"
     ]
    }
   ],
   "source": [
    "class ZeroDenominatorError(Exception):\n",
    "    pass\n",
    "while True:\n",
    "    try:\n",
    "        n = int(input())\n",
    "        m = int(input())\n",
    "        if m==0:\n",
    "            raise ZeroDenominatorError('Denominator should not be Zero')\n",
    "    except ValueError:\n",
    "        print('A & B SHOULD BE INTEGER')\n",
    "    except ZeroDivisionError:\n",
    "        print('B SHOULD NOT BE ZERO') \n",
    "    else:\n",
    "        print(n/m)\n",
    "        break"
   ]
  },
  {
   "cell_type": "code",
   "execution_count": 5,
   "metadata": {
    "scrolled": false
   },
   "outputs": [
    {
     "name": "stdout",
     "output_type": "stream",
     "text": [
      "2\n",
      "3\n",
      "0.6666666666666666\n",
      "OUTPUT PRINTED\n"
     ]
    }
   ],
   "source": [
    "class ZeroDenominatorError(Exception):\n",
    "    pass\n",
    "while True:\n",
    "    try:\n",
    "        n = int(input())\n",
    "        m = int(input())\n",
    "        if m==0:\n",
    "            raise ZeroDenominatorError('Denominator should not be Zero')\n",
    "    except ValueError:\n",
    "        print('A & B SHOULD BE INTEGER')\n",
    "    except ZeroDivisionError:\n",
    "        print('B SHOULD NOT BE ZERO') \n",
    "    else:\n",
    "        print(n/m)\n",
    "        break\n",
    "    finally:\n",
    "        print('OUTPUT PRINTED')"
   ]
  },
  {
   "cell_type": "code",
   "execution_count": 11,
   "metadata": {},
   "outputs": [
    {
     "name": "stdout",
     "output_type": "stream",
     "text": [
      "1\n",
      "h\n",
      "A & B SHOULD BE INTEGER\n",
      "1\n",
      "0\n"
     ]
    },
    {
     "ename": "ZeroDivisionError",
     "evalue": "division by zero",
     "output_type": "error",
     "traceback": [
      "\u001b[1;31m---------------------------------------------------------------------------\u001b[0m",
      "\u001b[1;31mZeroDivisionError\u001b[0m                         Traceback (most recent call last)",
      "\u001b[1;32m<ipython-input-11-52f0a24ca4b5>\u001b[0m in \u001b[0;36m<module>\u001b[1;34m\u001b[0m\n\u001b[0;32m     17\u001b[0m         \u001b[0mprint\u001b[0m\u001b[1;33m(\u001b[0m\u001b[0mn\u001b[0m\u001b[1;33m)\u001b[0m\u001b[1;33m\u001b[0m\u001b[1;33m\u001b[0m\u001b[0m\n\u001b[0;32m     18\u001b[0m         \u001b[0mprint\u001b[0m\u001b[1;33m(\u001b[0m\u001b[0mm\u001b[0m\u001b[1;33m)\u001b[0m\u001b[1;33m\u001b[0m\u001b[1;33m\u001b[0m\u001b[0m\n\u001b[1;32m---> 19\u001b[1;33m         \u001b[0mprint\u001b[0m\u001b[1;33m(\u001b[0m\u001b[0mn\u001b[0m\u001b[1;33m/\u001b[0m\u001b[0mm\u001b[0m\u001b[1;33m)\u001b[0m\u001b[1;33m\u001b[0m\u001b[1;33m\u001b[0m\u001b[0m\n\u001b[0m\u001b[0;32m     20\u001b[0m         \u001b[0mprint\u001b[0m\u001b[1;33m(\u001b[0m\u001b[1;34m'OUTPUT PRINTED'\u001b[0m\u001b[1;33m)\u001b[0m\u001b[1;33m\u001b[0m\u001b[1;33m\u001b[0m\u001b[0m\n",
      "\u001b[1;31mZeroDivisionError\u001b[0m: division by zero"
     ]
    }
   ],
   "source": [
    "class ZeroDenominatorError(Exception):\n",
    "    pass\n",
    "while True:\n",
    "    try:\n",
    "        n = int(input())\n",
    "        m = int(input())\n",
    "        if m==0:\n",
    "            raise ZeroDenominatorError('Denominator should not be Zero')\n",
    "    except ValueError:\n",
    "        print('A & B SHOULD BE INTEGER')\n",
    "    except ZeroDivisionError:\n",
    "        print('B SHOULD NOT BE ZERO') \n",
    "    else:\n",
    "        print(n/m)\n",
    "        break\n",
    "    finally:\n",
    "        print(n)\n",
    "        print(m)\n",
    "        print(n/m)\n",
    "        print('OUTPUT PRINTED')"
   ]
  }
 ],
 "metadata": {
  "kernelspec": {
   "display_name": "Python 3",
   "language": "python",
   "name": "python3"
  },
  "language_info": {
   "codemirror_mode": {
    "name": "ipython",
    "version": 3
   },
   "file_extension": ".py",
   "mimetype": "text/x-python",
   "name": "python",
   "nbconvert_exporter": "python",
   "pygments_lexer": "ipython3",
   "version": "3.8.5"
  }
 },
 "nbformat": 4,
 "nbformat_minor": 4
}
