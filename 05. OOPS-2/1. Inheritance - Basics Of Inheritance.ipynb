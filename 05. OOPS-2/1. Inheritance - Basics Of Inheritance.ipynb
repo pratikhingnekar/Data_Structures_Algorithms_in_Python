{
 "cells": [
  {
   "cell_type": "code",
   "execution_count": 1,
   "metadata": {},
   "outputs": [],
   "source": [
    "class Vehicle:\n",
    "    def __init__(self,color,maxSpeed):\n",
    "        self.color = color\n",
    "        self.maxSpeed= maxSpeed\n",
    "        \n",
    "class Car(Vehicle):\n",
    "    def __init__(self,color,maxSpeed,numGears,isConvertible):\n",
    "        \n",
    "        super().__init__(color,maxSpeed)\n",
    "        self.numGears = numGears\n",
    "        self.isConvertible=isConvertible\n",
    "        \n",
    "    def printCar(self):\n",
    "        print('Color:',self.color)\n",
    "        print('Maxspeed:',self.maxSpeed)\n",
    "        print('NumGears:',self.numGears)\n",
    "        print('IsConvertible:',self.isConvertible)"
   ]
  },
  {
   "cell_type": "code",
   "execution_count": 2,
   "metadata": {},
   "outputs": [
    {
     "name": "stdout",
     "output_type": "stream",
     "text": [
      "Color: red\n",
      "Maxspeed: 100\n",
      "NumGears: 6\n",
      "IsConvertible: False\n"
     ]
    }
   ],
   "source": [
    "c = Car('red',100,6,False)\n",
    "c.printCar()"
   ]
  }
 ],
 "metadata": {
  "kernelspec": {
   "display_name": "Python 3",
   "language": "python",
   "name": "python3"
  },
  "language_info": {
   "codemirror_mode": {
    "name": "ipython",
    "version": 3
   },
   "file_extension": ".py",
   "mimetype": "text/x-python",
   "name": "python",
   "nbconvert_exporter": "python",
   "pygments_lexer": "ipython3",
   "version": "3.8.5"
  }
 },
 "nbformat": 4,
 "nbformat_minor": 4
}
