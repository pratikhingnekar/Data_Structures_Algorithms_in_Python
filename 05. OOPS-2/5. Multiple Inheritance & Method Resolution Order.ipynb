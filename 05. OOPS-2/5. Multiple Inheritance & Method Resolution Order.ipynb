{
 "cells": [
  {
   "cell_type": "code",
   "execution_count": 11,
   "metadata": {
    "scrolled": true
   },
   "outputs": [
    {
     "name": "stdout",
     "output_type": "stream",
     "text": [
      "Name of child is Ajay\n",
      "[<class '__main__.Child'>, <class '__main__.Mother'>, <class '__main__.Father'>, <class 'object'>]\n"
     ]
    }
   ],
   "source": [
    "class Mother:\n",
    "\n",
    "    def __init__(self):\n",
    "        self.name = \"Manju\"\n",
    "        super().__init__()\n",
    "\n",
    "    def print(self):\n",
    "\n",
    "        print(\"Print Of Mother called\")\n",
    "\n",
    "class Father:\n",
    "\n",
    "    def __init__(self):\n",
    "        self.name = \"Ajay\"\n",
    "        super().__init__()\n",
    "    def print(self):\n",
    "\n",
    "        print(\"Print Of Father called\")\n",
    "\n",
    "class Child(Mother,Father):\n",
    "\n",
    "    def __init__(self):\n",
    "        super().__init__()\n",
    "\n",
    "    def print(self):\n",
    "        print(\"Name of child is\", self.name)\n",
    "\n",
    "c = Child()\n",
    "c.print()\n",
    "print(Child.mro())"
   ]
  },
  {
   "cell_type": "code",
   "execution_count": 12,
   "metadata": {},
   "outputs": [
    {
     "name": "stdout",
     "output_type": "stream",
     "text": [
      "Name of child is Manju\n",
      "[<class '__main__.Child'>, <class '__main__.Mother'>, <class '__main__.Father'>, <class 'object'>]\n"
     ]
    }
   ],
   "source": [
    "class Mother:\n",
    "\n",
    "    def __init__(self):\n",
    "        self.name = \"Manju\"\n",
    "\n",
    "    def print(self):\n",
    "\n",
    "        print(\"Print Of Mother called\")\n",
    "\n",
    "class Father:\n",
    "\n",
    "    def __init__(self):\n",
    "        self.name = \"Ajay\"\n",
    "        \n",
    "        \n",
    "    def print(self):\n",
    "\n",
    "        print(\"Print Of Father called\")\n",
    "\n",
    "class Child(Mother,Father):\n",
    "\n",
    "    def __init__(self):\n",
    "        super().__init__()\n",
    "\n",
    "    def print(self):\n",
    "        print(\"Name of child is\", self.name)\n",
    "\n",
    "c = Child()\n",
    "c.print()\n",
    "print(Child.mro())"
   ]
  },
  {
   "cell_type": "code",
   "execution_count": 13,
   "metadata": {},
   "outputs": [
    {
     "name": "stdout",
     "output_type": "stream",
     "text": [
      "Name of child is Ajay\n",
      "[<class '__main__.Child'>, <class '__main__.Mother'>, <class '__main__.Father'>, <class 'object'>]\n"
     ]
    }
   ],
   "source": [
    "class Mother:\n",
    "\n",
    "    def __init__(self):\n",
    "        self.name = \"Manju\"\n",
    "        super().__init__()\n",
    "\n",
    "    def print(self):\n",
    "\n",
    "        print(\"Print Of Mother called\")\n",
    "\n",
    "class Father:\n",
    "\n",
    "    def __init__(self):\n",
    "        self.name = \"Ajay\"\n",
    "        \n",
    "        \n",
    "    def print(self):\n",
    "\n",
    "        print(\"Print Of Father called\")\n",
    "\n",
    "class Child(Mother,Father):\n",
    "\n",
    "    def __init__(self):\n",
    "        super().__init__()\n",
    "\n",
    "    def print(self):\n",
    "        print(\"Name of child is\", self.name)\n",
    "\n",
    "c = Child()\n",
    "c.print()\n",
    "print(Child.mro())"
   ]
  }
 ],
 "metadata": {
  "kernelspec": {
   "display_name": "Python 3",
   "language": "python",
   "name": "python3"
  },
  "language_info": {
   "codemirror_mode": {
    "name": "ipython",
    "version": 3
   },
   "file_extension": ".py",
   "mimetype": "text/x-python",
   "name": "python",
   "nbconvert_exporter": "python",
   "pygments_lexer": "ipython3",
   "version": "3.8.5"
  }
 },
 "nbformat": 4,
 "nbformat_minor": 4
}
