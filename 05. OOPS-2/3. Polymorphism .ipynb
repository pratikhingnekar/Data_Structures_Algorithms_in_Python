{
 "cells": [
  {
   "cell_type": "code",
   "execution_count": 6,
   "metadata": {
    "scrolled": true
   },
   "outputs": [
    {
     "name": "stdout",
     "output_type": "stream",
     "text": [
      "NumGears: 6\n",
      "IsConvertible: False\n"
     ]
    }
   ],
   "source": [
    "class Vehicle:\n",
    "    def __init__(self,color,maxSpeed):\n",
    "        self.color = color\n",
    "        self.__maxSpeed= maxSpeed #PRIVATE MEMBER\n",
    "        \n",
    "        \n",
    "    def getMaxSpeed(self): #FOR FIX\n",
    "        return self.__maxSpeed\n",
    "    \n",
    "    def setMaxSpeed(self,maxSpeed):#FOR FOX\n",
    "        self.__maxSpeed = maxSpeed\n",
    "        \n",
    "    def print(self):\n",
    "        print('Color:',self.color)\n",
    "        print('Maxspeed:',self.getMaxSpeed())\n",
    "        \n",
    "        \n",
    "class Car(Vehicle):\n",
    "    def __init__(self,color,maxSpeed,numGears,isConvertible):\n",
    "        \n",
    "        super().__init__(color,maxSpeed)\n",
    "        self.numGears = numGears\n",
    "        self.isConvertible=isConvertible\n",
    "        \n",
    "    def print(self):     \n",
    "        #super().print() #self.print()\n",
    "        print('NumGears:',self.numGears)\n",
    "        print('IsConvertible:',self.isConvertible)\n",
    "        \n",
    "c = Car('red',100,6,False)\n",
    "c.print()"
   ]
  },
  {
   "cell_type": "code",
   "execution_count": 7,
   "metadata": {
    "scrolled": true
   },
   "outputs": [
    {
     "name": "stdout",
     "output_type": "stream",
     "text": [
      "Color: red\n",
      "Maxspeed: 100\n"
     ]
    }
   ],
   "source": [
    "class Vehicle:\n",
    "    def __init__(self,color,maxSpeed):\n",
    "        self.color = color\n",
    "        self.__maxSpeed= maxSpeed #PRIVATE MEMBER\n",
    "        \n",
    "        \n",
    "    def getMaxSpeed(self): #FOR FIX\n",
    "        return self.__maxSpeed\n",
    "    \n",
    "    def setMaxSpeed(self,maxSpeed):#FOR FOX\n",
    "        self.__maxSpeed = maxSpeed\n",
    "        \n",
    "    def print(self):\n",
    "        print('Color:',self.color)\n",
    "        print('Maxspeed:',self.getMaxSpeed())\n",
    "        \n",
    "        \n",
    "class Car(Vehicle):\n",
    "    def __init__(self,color,maxSpeed,numGears,isConvertible):\n",
    "        \n",
    "        super().__init__(color,maxSpeed)\n",
    "        self.numGears = numGears\n",
    "        self.isConvertible=isConvertible\n",
    "        \n",
    "    #def print(self):     \n",
    "        #super().print() #self.print()\n",
    "        #print('NumGears:',self.numGears)\n",
    "        #print('IsConvertible:',self.isConvertible)\n",
    "        \n",
    "c = Car('red',100,6,False)\n",
    "c.print()"
   ]
  },
  {
   "cell_type": "code",
   "execution_count": 8,
   "metadata": {},
   "outputs": [
    {
     "ename": "RecursionError",
     "evalue": "maximum recursion depth exceeded",
     "output_type": "error",
     "traceback": [
      "\u001b[1;31m---------------------------------------------------------------------------\u001b[0m",
      "\u001b[1;31mRecursionError\u001b[0m                            Traceback (most recent call last)",
      "\u001b[1;32m<ipython-input-8-d3d7e1d65f9f>\u001b[0m in \u001b[0;36m<module>\u001b[1;34m\u001b[0m\n\u001b[0;32m     29\u001b[0m \u001b[1;33m\u001b[0m\u001b[0m\n\u001b[0;32m     30\u001b[0m \u001b[0mc\u001b[0m \u001b[1;33m=\u001b[0m \u001b[0mCar\u001b[0m\u001b[1;33m(\u001b[0m\u001b[1;34m'red'\u001b[0m\u001b[1;33m,\u001b[0m\u001b[1;36m100\u001b[0m\u001b[1;33m,\u001b[0m\u001b[1;36m6\u001b[0m\u001b[1;33m,\u001b[0m\u001b[1;32mFalse\u001b[0m\u001b[1;33m)\u001b[0m\u001b[1;33m\u001b[0m\u001b[1;33m\u001b[0m\u001b[0m\n\u001b[1;32m---> 31\u001b[1;33m \u001b[0mc\u001b[0m\u001b[1;33m.\u001b[0m\u001b[0mprint\u001b[0m\u001b[1;33m(\u001b[0m\u001b[1;33m)\u001b[0m\u001b[1;33m\u001b[0m\u001b[1;33m\u001b[0m\u001b[0m\n\u001b[0m",
      "\u001b[1;32m<ipython-input-8-d3d7e1d65f9f>\u001b[0m in \u001b[0;36mprint\u001b[1;34m(self)\u001b[0m\n\u001b[0;32m     24\u001b[0m \u001b[1;33m\u001b[0m\u001b[0m\n\u001b[0;32m     25\u001b[0m     \u001b[1;32mdef\u001b[0m \u001b[0mprint\u001b[0m\u001b[1;33m(\u001b[0m\u001b[0mself\u001b[0m\u001b[1;33m)\u001b[0m\u001b[1;33m:\u001b[0m\u001b[1;33m\u001b[0m\u001b[1;33m\u001b[0m\u001b[0m\n\u001b[1;32m---> 26\u001b[1;33m         \u001b[0mself\u001b[0m\u001b[1;33m.\u001b[0m\u001b[0mprint\u001b[0m\u001b[1;33m(\u001b[0m\u001b[1;33m)\u001b[0m\u001b[1;33m\u001b[0m\u001b[1;33m\u001b[0m\u001b[0m\n\u001b[0m\u001b[0;32m     27\u001b[0m         \u001b[0mprint\u001b[0m\u001b[1;33m(\u001b[0m\u001b[1;34m'NumGears:'\u001b[0m\u001b[1;33m,\u001b[0m\u001b[0mself\u001b[0m\u001b[1;33m.\u001b[0m\u001b[0mnumGears\u001b[0m\u001b[1;33m)\u001b[0m\u001b[1;33m\u001b[0m\u001b[1;33m\u001b[0m\u001b[0m\n\u001b[0;32m     28\u001b[0m         \u001b[0mprint\u001b[0m\u001b[1;33m(\u001b[0m\u001b[1;34m'IsConvertible:'\u001b[0m\u001b[1;33m,\u001b[0m\u001b[0mself\u001b[0m\u001b[1;33m.\u001b[0m\u001b[0misConvertible\u001b[0m\u001b[1;33m)\u001b[0m\u001b[1;33m\u001b[0m\u001b[1;33m\u001b[0m\u001b[0m\n",
      "... last 1 frames repeated, from the frame below ...\n",
      "\u001b[1;32m<ipython-input-8-d3d7e1d65f9f>\u001b[0m in \u001b[0;36mprint\u001b[1;34m(self)\u001b[0m\n\u001b[0;32m     24\u001b[0m \u001b[1;33m\u001b[0m\u001b[0m\n\u001b[0;32m     25\u001b[0m     \u001b[1;32mdef\u001b[0m \u001b[0mprint\u001b[0m\u001b[1;33m(\u001b[0m\u001b[0mself\u001b[0m\u001b[1;33m)\u001b[0m\u001b[1;33m:\u001b[0m\u001b[1;33m\u001b[0m\u001b[1;33m\u001b[0m\u001b[0m\n\u001b[1;32m---> 26\u001b[1;33m         \u001b[0mself\u001b[0m\u001b[1;33m.\u001b[0m\u001b[0mprint\u001b[0m\u001b[1;33m(\u001b[0m\u001b[1;33m)\u001b[0m\u001b[1;33m\u001b[0m\u001b[1;33m\u001b[0m\u001b[0m\n\u001b[0m\u001b[0;32m     27\u001b[0m         \u001b[0mprint\u001b[0m\u001b[1;33m(\u001b[0m\u001b[1;34m'NumGears:'\u001b[0m\u001b[1;33m,\u001b[0m\u001b[0mself\u001b[0m\u001b[1;33m.\u001b[0m\u001b[0mnumGears\u001b[0m\u001b[1;33m)\u001b[0m\u001b[1;33m\u001b[0m\u001b[1;33m\u001b[0m\u001b[0m\n\u001b[0;32m     28\u001b[0m         \u001b[0mprint\u001b[0m\u001b[1;33m(\u001b[0m\u001b[1;34m'IsConvertible:'\u001b[0m\u001b[1;33m,\u001b[0m\u001b[0mself\u001b[0m\u001b[1;33m.\u001b[0m\u001b[0misConvertible\u001b[0m\u001b[1;33m)\u001b[0m\u001b[1;33m\u001b[0m\u001b[1;33m\u001b[0m\u001b[0m\n",
      "\u001b[1;31mRecursionError\u001b[0m: maximum recursion depth exceeded"
     ]
    }
   ],
   "source": [
    "class Vehicle:\n",
    "    def __init__(self,color,maxSpeed):\n",
    "        self.color = color\n",
    "        self.__maxSpeed= maxSpeed #PRIVATE MEMBER\n",
    "        \n",
    "        \n",
    "    def getMaxSpeed(self): #FOR FIX\n",
    "        return self.__maxSpeed\n",
    "    \n",
    "    def setMaxSpeed(self,maxSpeed):#FOR FOX\n",
    "        self.__maxSpeed = maxSpeed\n",
    "        \n",
    "    def print(self):\n",
    "        print('Color:',self.color)\n",
    "        print('Maxspeed:',self.getMaxSpeed())\n",
    "        \n",
    "        \n",
    "class Car(Vehicle):\n",
    "    def __init__(self,color,maxSpeed,numGears,isConvertible):\n",
    "        \n",
    "        super().__init__(color,maxSpeed)\n",
    "        self.numGears = numGears\n",
    "        self.isConvertible=isConvertible\n",
    "        \n",
    "    def print(self):     \n",
    "        self.print()\n",
    "        print('NumGears:',self.numGears)\n",
    "        print('IsConvertible:',self.isConvertible)\n",
    "        \n",
    "c = Car('red',100,6,False)\n",
    "c.print()"
   ]
  }
 ],
 "metadata": {
  "kernelspec": {
   "display_name": "Python 3",
   "language": "python",
   "name": "python3"
  },
  "language_info": {
   "codemirror_mode": {
    "name": "ipython",
    "version": 3
   },
   "file_extension": ".py",
   "mimetype": "text/x-python",
   "name": "python",
   "nbconvert_exporter": "python",
   "pygments_lexer": "ipython3",
   "version": "3.8.5"
  }
 },
 "nbformat": 4,
 "nbformat_minor": 4
}
