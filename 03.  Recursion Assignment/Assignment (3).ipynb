{
 "cells": [
  {
   "cell_type": "markdown",
   "metadata": {},
   "source": [
    "# Geometric Sum"
   ]
  },
  {
   "cell_type": "code",
   "execution_count": 1,
   "metadata": {},
   "outputs": [
    {
     "name": "stdout",
     "output_type": "stream",
     "text": [
      "3\n",
      "1.87500\n"
     ]
    }
   ],
   "source": [
    "def Gsum(k):\n",
    "    if k==0:\n",
    "        return 1\n",
    "    return 1/2**k + Gsum(k-1)\n",
    "\n",
    "k = int(input())\n",
    "print (str.format('{0:.5f}',Gsum(k)))"
   ]
  },
  {
   "cell_type": "markdown",
   "metadata": {},
   "source": [
    "# Check Palindrome (recursive)"
   ]
  },
  {
   "cell_type": "code",
   "execution_count": 3,
   "metadata": {},
   "outputs": [
    {
     "name": "stdout",
     "output_type": "stream",
     "text": [
      "tenet\n",
      "true\n"
     ]
    }
   ],
   "source": [
    "def isPalindrome(str):\n",
    "    if len(str)<=1:\n",
    "        return True\n",
    "    if str[0]!=str[len(str)-1]:\n",
    "        return False\n",
    "    return isPalindrome(str[1:-1])\n",
    "\n",
    "\n",
    "str = input()\n",
    "if isPalindrome(str):\n",
    "    print(\"true\")\n",
    "else:\n",
    "    print(\"false\")"
   ]
  },
  {
   "cell_type": "markdown",
   "metadata": {},
   "source": [
    "# Sum of digits (recursive)"
   ]
  },
  {
   "cell_type": "code",
   "execution_count": 4,
   "metadata": {},
   "outputs": [
    {
     "name": "stdout",
     "output_type": "stream",
     "text": [
      "12345\n",
      "15\n"
     ]
    }
   ],
   "source": [
    "def Sumdigit(n):\n",
    "    if n <10:\n",
    "        return n\n",
    "    return (n%10)+Sumdigit(n//10)\n",
    "\n",
    "N=int(input())\n",
    "print(Sumdigit(N))"
   ]
  },
  {
   "cell_type": "markdown",
   "metadata": {},
   "source": [
    "# Multiplication (Recursive)"
   ]
  },
  {
   "cell_type": "code",
   "execution_count": 5,
   "metadata": {},
   "outputs": [
    {
     "name": "stdout",
     "output_type": "stream",
     "text": [
      "3\n",
      "5\n",
      "15\n"
     ]
    }
   ],
   "source": [
    "from sys import setrecursionlimit\n",
    "setrecursionlimit(10**6) \n",
    "\n",
    "def mul(m, n):\n",
    "\n",
    "    if m == 0 or n == 0:\n",
    "        return 0\n",
    " \n",
    "    if n == 1:\n",
    "        return m\n",
    " \n",
    "    if m == 1:\n",
    "        return n\n",
    " \n",
    "    return m + mul(m, n - 1)\n",
    "\n",
    "m = int(input())\n",
    "n = int(input())\n",
    "\n",
    "print(mul(m,n))"
   ]
  },
  {
   "cell_type": "markdown",
   "metadata": {},
   "source": [
    "# Count Zeros"
   ]
  },
  {
   "cell_type": "code",
   "execution_count": 6,
   "metadata": {
    "scrolled": false
   },
   "outputs": [
    {
     "name": "stdout",
     "output_type": "stream",
     "text": [
      "708000\n",
      "4\n"
     ]
    }
   ],
   "source": [
    "count=0\n",
    "def count_digit(num):\n",
    "    global count\n",
    "    if (num >0):\n",
    "        if(num%10==0):\n",
    "            count +=1\n",
    "        count_digit(num // 10)\n",
    "    return count\n",
    "n=int(input())\n",
    "print(count_digit(n))"
   ]
  },
  {
   "cell_type": "markdown",
   "metadata": {},
   "source": [
    "# String to Integer"
   ]
  },
  {
   "cell_type": "code",
   "execution_count": 7,
   "metadata": {
    "scrolled": true
   },
   "outputs": [
    {
     "name": "stdout",
     "output_type": "stream",
     "text": [
      "00001231\n",
      "1231\n"
     ]
    }
   ],
   "source": [
    "def String_to_Integer(n,si):\n",
    "    if(si==0):\n",
    "        return int(n[si])\n",
    "    smalloutput=int(n[si])+10*String_to_Integer(n,si-1)\n",
    "    return smalloutput\n",
    "a=input()\n",
    "n=String_to_Integer(a,len(a)-1)\n",
    "print(n)"
   ]
  },
  {
   "cell_type": "markdown",
   "metadata": {},
   "source": [
    "# Pair Star"
   ]
  },
  {
   "cell_type": "code",
   "execution_count": 8,
   "metadata": {},
   "outputs": [
    {
     "name": "stdout",
     "output_type": "stream",
     "text": [
      "hello\n",
      "hel*lo\n"
     ]
    }
   ],
   "source": [
    "def re(s):\n",
    "    n=len(s)\n",
    "    if n<=1 :\n",
    "        return s\n",
    "    temp = re(s[1:])\n",
    "    if s[0]==s[1]:\n",
    "        return s[0]+\"*\"+temp\n",
    "    else:\n",
    "        return s[0]+temp\n",
    " \n",
    "\n",
    "s= input().strip()\n",
    "print(re(s))"
   ]
  },
  {
   "cell_type": "markdown",
   "metadata": {},
   "source": [
    "# Check AB"
   ]
  },
  {
   "cell_type": "code",
   "execution_count": 10,
   "metadata": {
    "scrolled": true
   },
   "outputs": [
    {
     "name": "stdout",
     "output_type": "stream",
     "text": [
      "ababbaba\n",
      "false\n"
     ]
    }
   ],
   "source": [
    "def checkab(s):\n",
    "    if len(s)==0:\n",
    "        return True\n",
    "    if s[0]==\"a\":\n",
    "        if len(s[1:])>1 and s[1:3]==\"bb\":\n",
    "            return checkab(s[3:])\n",
    "        else:\n",
    "            return checkab(s[1:])\n",
    "    else:\n",
    "        return False\n",
    "s=input()\n",
    "if checkab(s)==True:\n",
    "    print(\"true\")\n",
    "else:\n",
    "    print(\"false\")"
   ]
  },
  {
   "cell_type": "markdown",
   "metadata": {},
   "source": [
    "# Staircase"
   ]
  },
  {
   "cell_type": "code",
   "execution_count": 14,
   "metadata": {},
   "outputs": [
    {
     "name": "stdout",
     "output_type": "stream",
     "text": [
      "5\n",
      "13\n"
     ]
    }
   ],
   "source": [
    "def Staircase(n):\n",
    "    if(n<=3):\n",
    "        if(n==1):\n",
    "            return 1\n",
    "        elif(n==2):\n",
    "            return 2\n",
    "        else:\n",
    "            return 4\n",
    "    x=Staircase(n-1)\n",
    "    y=Staircase(n-2)\n",
    "    z=Staircase(n-3)\n",
    "    return x+y+z\n",
    "n=int(input())\n",
    "a=Staircase(n)\n",
    "print(a)"
   ]
  }
 ],
 "metadata": {
  "kernelspec": {
   "display_name": "Python 3",
   "language": "python",
   "name": "python3"
  },
  "language_info": {
   "codemirror_mode": {
    "name": "ipython",
    "version": 3
   },
   "file_extension": ".py",
   "mimetype": "text/x-python",
   "name": "python",
   "nbconvert_exporter": "python",
   "pygments_lexer": "ipython3",
   "version": "3.8.5"
  }
 },
 "nbformat": 4,
 "nbformat_minor": 4
}
