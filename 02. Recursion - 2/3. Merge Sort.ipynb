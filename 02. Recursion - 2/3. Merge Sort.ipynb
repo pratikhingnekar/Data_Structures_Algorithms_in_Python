{
 "cells": [
  {
   "cell_type": "code",
   "execution_count": 25,
   "metadata": {},
   "outputs": [],
   "source": [
    "def merge(a1,a2,a):\n",
    "    i =0\n",
    "    j =0\n",
    "    k =0\n",
    "    while i<len(a1) and j<len(a2):\n",
    "        if a1[i] <a2[j]:\n",
    "            a[k]=a1[i]\n",
    "            k = k+1\n",
    "            i = i+1\n",
    "        else:\n",
    "            a[k]= a2[j]\n",
    "            k = k+1\n",
    "            j = j+1\n",
    "    while i<len(a1):\n",
    "        a[k]= a1[i]\n",
    "        k = k+1\n",
    "        i = i+1\n",
    "    while j<len(a2):\n",
    "        a[k] =a2[j]\n",
    "        k=k+1\n",
    "        j=j+1"
   ]
  },
  {
   "cell_type": "code",
   "execution_count": 26,
   "metadata": {},
   "outputs": [],
   "source": [
    "def mergeSort(a):\n",
    "    if len(a) ==0 or len(a)==1:\n",
    "        return\n",
    "    \n",
    "    mid =len(a)//2\n",
    "    \n",
    "    a1 = a[0:mid]\n",
    "    a2 = a[mid:]\n",
    "    \n",
    "    mergeSort(a1)\n",
    "    mergeSort(a2)\n",
    "    \n",
    "    merge(a1,a2,a)"
   ]
  },
  {
   "cell_type": "code",
   "execution_count": 27,
   "metadata": {
    "scrolled": false
   },
   "outputs": [
    {
     "data": {
      "text/plain": [
       "[1, 3, 4, 5, 7, 9, 10]"
      ]
     },
     "execution_count": 27,
     "metadata": {},
     "output_type": "execute_result"
    }
   ],
   "source": [
    "a = [10,5,3,1,7,9,4]\n",
    "mergeSort(a)\n",
    "a"
   ]
  }
 ],
 "metadata": {
  "kernelspec": {
   "display_name": "Python 3",
   "language": "python",
   "name": "python3"
  },
  "language_info": {
   "codemirror_mode": {
    "name": "ipython",
    "version": 3
   },
   "file_extension": ".py",
   "mimetype": "text/x-python",
   "name": "python",
   "nbconvert_exporter": "python",
   "pygments_lexer": "ipython3",
   "version": "3.8.5"
  }
 },
 "nbformat": 4,
 "nbformat_minor": 4
}
