{
 "cells": [
  {
   "cell_type": "code",
   "execution_count": 7,
   "metadata": {},
   "outputs": [],
   "source": [
    "def partition(a,si,ei):\n",
    "    pivot = a[si]\n",
    "    #find no. of element smalller tyhan pivot\n",
    "    \n",
    "    c=0\n",
    "    for i in range(si,ei+1):\n",
    "        if a[i]<pivot:\n",
    "            c=c+1\n",
    "    a[si+c],a[si]=a[si],a[si+c]\n",
    "    pivot_index = si+c\n",
    "    \n",
    "    i =si\n",
    "    j = ei\n",
    "    \n",
    "    while i<j:\n",
    "        if a[i]<pivot:\n",
    "            i = i+1\n",
    "        elif a[j]>=pivot:\n",
    "            j = j-1\n",
    "        else:\n",
    "            a[i],a[j]=a[j],a[i]\n",
    "            i = i+1\n",
    "            j = j-1\n",
    "    return pivot_index"
   ]
  },
  {
   "cell_type": "code",
   "execution_count": 8,
   "metadata": {},
   "outputs": [],
   "source": [
    "def quick_sort(a,si,ei):\n",
    "    if si>=ei:\n",
    "        return\n",
    "    pivot_index = partition(a,si,ei)\n",
    "    quick_sort(a,si,pivot_index-1)\n",
    "    quick_sort(a,pivot_index+1,ei)"
   ]
  },
  {
   "cell_type": "code",
   "execution_count": 15,
   "metadata": {},
   "outputs": [
    {
     "data": {
      "text/plain": [
       "5"
      ]
     },
     "execution_count": 15,
     "metadata": {},
     "output_type": "execute_result"
    }
   ],
   "source": [
    "a = [6,10,9,8,7,1,3,5,4,2]\n",
    "partition(a,0,len(a)-1) "
   ]
  },
  {
   "cell_type": "code",
   "execution_count": 9,
   "metadata": {},
   "outputs": [
    {
     "data": {
      "text/plain": [
       "[1, 2, 3, 4, 5, 6, 7, 8, 9, 10]"
      ]
     },
     "execution_count": 9,
     "metadata": {},
     "output_type": "execute_result"
    }
   ],
   "source": [
    "a = [6,10,9,8,7,1,3,5,4,2]\n",
    "quick_sort(a,0,len(a)-1)\n",
    "a"
   ]
  },
  {
   "cell_type": "code",
   "execution_count": 2,
   "metadata": {},
   "outputs": [
    {
     "name": "stdout",
     "output_type": "stream",
     "text": [
      "5\n",
      "6 2 5 1 3\n",
      "1 2 3 5 6\n"
     ]
    }
   ],
   "source": [
    "def partition(a,si,ei):\n",
    "    pivot = a[si]\n",
    "    #find no. of element smalller tyhan pivot\n",
    "    \n",
    "    c=0\n",
    "    for i in range(si,ei+1):\n",
    "        if a[i]<pivot:\n",
    "            c=c+1\n",
    "    a[si+c],a[si]=a[si],a[si+c]\n",
    "    pivot_index = si+c\n",
    "    \n",
    "    i =si\n",
    "    j = ei\n",
    "    \n",
    "    while i<j:\n",
    "        if a[i]<pivot:\n",
    "            i = i+1\n",
    "        elif a[j]>=pivot:\n",
    "            j = j-1\n",
    "        else:\n",
    "            a[i],a[j]=a[j],a[i]\n",
    "            i = i+1\n",
    "            j = j-1\n",
    "    return pivot_index\n",
    "\n",
    "def quick_sort(a,si,ei):\n",
    "    if si>=ei:\n",
    "        return\n",
    "    pivot_index = partition(a,si,ei)\n",
    "    quick_sort(a,si,pivot_index-1)\n",
    "    quick_sort(a,pivot_index+1,ei)\n",
    "    \n",
    "    \n",
    "n=int(input())\n",
    "a=list(int(i) for i in input().strip().split(' '))\n",
    "quick_sort(a,0,len(a)-1)\n",
    "print(*a)"
   ]
  }
 ],
 "metadata": {
  "kernelspec": {
   "display_name": "Python 3",
   "language": "python",
   "name": "python3"
  },
  "language_info": {
   "codemirror_mode": {
    "name": "ipython",
    "version": 3
   },
   "file_extension": ".py",
   "mimetype": "text/x-python",
   "name": "python",
   "nbconvert_exporter": "python",
   "pygments_lexer": "ipython3",
   "version": "3.8.5"
  }
 },
 "nbformat": 4,
 "nbformat_minor": 4
}
