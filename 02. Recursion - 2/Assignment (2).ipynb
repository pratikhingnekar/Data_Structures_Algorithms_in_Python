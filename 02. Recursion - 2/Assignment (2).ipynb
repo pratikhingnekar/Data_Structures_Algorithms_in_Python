{
 "cells": [
  {
   "cell_type": "markdown",
   "metadata": {},
   "source": [
    "# Remove X"
   ]
  },
  {
   "cell_type": "code",
   "execution_count": 1,
   "metadata": {
    "scrolled": true
   },
   "outputs": [
    {
     "name": "stdout",
     "output_type": "stream",
     "text": [
      "sbsbx\n",
      "sbsb\n"
     ]
    }
   ],
   "source": [
    "def removeX(s):\n",
    "    chr = 'x'\n",
    "    l = len(s)\n",
    "    if len(s) == 0:\n",
    "        return s\n",
    "    smalleroutput = removeX(s[1:])\n",
    "    if s[0] == chr :\n",
    "        return ''+smalleroutput\n",
    "    else:\n",
    "        return s[0]+smalleroutput\n",
    "    \n",
    "string = input()\n",
    "print(removeX(string))"
   ]
  },
  {
   "cell_type": "markdown",
   "metadata": {},
   "source": [
    "# Remove Duplicates Recursively"
   ]
  },
  {
   "cell_type": "code",
   "execution_count": 1,
   "metadata": {
    "scrolled": false
   },
   "outputs": [
    {
     "name": "stdout",
     "output_type": "stream",
     "text": [
      "aabccba\n",
      "abcba\n"
     ]
    }
   ],
   "source": [
    "def removeConsecutiveDuplicates(s):\n",
    "    if len(s)<=1:\n",
    "        return s\n",
    "    smallOutput=removeConsecutiveDuplicates(s[1:])\n",
    "    if s[0]==s[1]:\n",
    "        return smallOutput\n",
    "    else:\n",
    "        return s[0]+smallOutput\n",
    "\n",
    "# Main\n",
    "string = input().strip()\n",
    "print(removeConsecutiveDuplicates(string))"
   ]
  },
  {
   "cell_type": "markdown",
   "metadata": {},
   "source": [
    "# Merge Sort Code"
   ]
  },
  {
   "cell_type": "code",
   "execution_count": 1,
   "metadata": {
    "scrolled": true
   },
   "outputs": [
    {
     "name": "stdout",
     "output_type": "stream",
     "text": [
      "6\n",
      "2 6 8 5 4 3\n",
      "2 3 4 5 6 8\n"
     ]
    }
   ],
   "source": [
    "def merge(a1, a2, a):\n",
    "    i = 0\n",
    "    j = 0\n",
    "    k = 0\n",
    "\n",
    "    while i < len(a1) and j < len(a2):\n",
    "        if a1[i] < a2[j]:\n",
    "            a[k] = a1[i]\n",
    "            k = k + 1\n",
    "            i = i + 1\n",
    "        else:\n",
    "            a[k] = a2[j]\n",
    "            k = k + 1\n",
    "            j = j + 1\n",
    "\n",
    "    while i < len(a1):\n",
    "        a[k] = a1[i]\n",
    "        k = k + 1\n",
    "        i = i + 1\n",
    "\n",
    "    while j < len(a2):\n",
    "        a[k] = a2[j]\n",
    "        k = k + 1\n",
    "        j = j + 1\n",
    "\n",
    "\n",
    "def MergeSort(a):\n",
    "    if len(a) == 0 or len(a) == 1:\n",
    "        return\n",
    "\n",
    "    mid = len(a) // 2\n",
    "\n",
    "    a1 = a[:mid]\n",
    "    a2 = a[mid:]\n",
    "\n",
    "    MergeSort(a1)\n",
    "    MergeSort(a2)\n",
    "\n",
    "    merge(a1, a2, a)\n",
    "# a = [5,2,45,12,3,6,52,41,25]\n",
    "\n",
    "\n",
    "n=int(input())\n",
    "a=list(int(i) for i in input().strip().split(' '))\n",
    "MergeSort(a)\n",
    "print(*a)"
   ]
  },
  {
   "cell_type": "markdown",
   "metadata": {},
   "source": [
    "# Quick Sort Code"
   ]
  },
  {
   "cell_type": "code",
   "execution_count": 4,
   "metadata": {},
   "outputs": [
    {
     "name": "stdout",
     "output_type": "stream",
     "text": [
      "6\n",
      "2 6 8 5 4 3\n",
      "[2, 3, 4, 5, 6, 8]\n"
     ]
    }
   ],
   "source": [
    "def partition(a,si,ei):\n",
    "    pivot = a[si]\n",
    "    #find no. of element smalller tyhan pivot\n",
    "    \n",
    "    c=0\n",
    "    for i in range(si,ei+1):\n",
    "        if a[i]<pivot:\n",
    "            c=c+1\n",
    "    a[si+c],a[si]=a[si],a[si+c]\n",
    "    pivot_index = si+c\n",
    "    \n",
    "    i =si\n",
    "    j = ei\n",
    "    \n",
    "    while i<j:\n",
    "        if a[i]<pivot:\n",
    "            i = i+1\n",
    "        elif a[j]>=pivot:\n",
    "            j = j-1\n",
    "        else:\n",
    "            a[i],a[j]=a[j],a[i]\n",
    "            i = i+1\n",
    "            j = j-1\n",
    "    return pivot_index\n",
    "\n",
    "def quick_sort(a,si,ei):\n",
    "    if si>=ei:\n",
    "        return\n",
    "    pivot_index = partition(a,si,ei)\n",
    "    quick_sort(a,si,pivot_index-1)\n",
    "    quick_sort(a,pivot_index+1,ei)\n",
    "    \n",
    "    \n",
    "n=int(input())\n",
    "a=list(int(i) for i in input().strip().split(' '))\n",
    "quick_sort(a,0,len(a)-1)\n",
    "print(a)"
   ]
  },
  {
   "cell_type": "markdown",
   "metadata": {},
   "source": [
    "# Tower Of Hanoi - Problem"
   ]
  },
  {
   "cell_type": "code",
   "execution_count": 5,
   "metadata": {},
   "outputs": [
    {
     "name": "stdout",
     "output_type": "stream",
     "text": [
      "2\n",
      "a b\n",
      "a c\n",
      "b c\n"
     ]
    }
   ],
   "source": [
    "def towerofhanoi(n, source, aux, dest):\n",
    "    if n ==0:\n",
    "        return\n",
    "    if n ==1:\n",
    "        print(source,dest)\n",
    "        return\n",
    "    towerofhanoi(n-1,source,dest,aux)\n",
    "    print(source,dest) \n",
    "    towerofhanoi(n-1,aux,source,dest)\n",
    "    pass\n",
    "\n",
    "n=int(input())\n",
    "towerofhanoi(n, 'a', 'b', 'c')"
   ]
  }
 ],
 "metadata": {
  "kernelspec": {
   "display_name": "Python 3",
   "language": "python",
   "name": "python3"
  },
  "language_info": {
   "codemirror_mode": {
    "name": "ipython",
    "version": 3
   },
   "file_extension": ".py",
   "mimetype": "text/x-python",
   "name": "python",
   "nbconvert_exporter": "python",
   "pygments_lexer": "ipython3",
   "version": "3.8.5"
  }
 },
 "nbformat": 4,
 "nbformat_minor": 4
}
