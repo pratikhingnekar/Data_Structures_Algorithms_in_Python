{
 "cells": [
  {
   "cell_type": "code",
   "execution_count": 10,
   "metadata": {},
   "outputs": [
    {
     "name": "stdout",
     "output_type": "stream",
     "text": [
      "5\n",
      "2 6 5 9 8\n",
      "9\n"
     ]
    },
    {
     "data": {
      "text/plain": [
       "3"
      ]
     },
     "execution_count": 10,
     "metadata": {},
     "output_type": "execute_result"
    }
   ],
   "source": [
    "def firstIndex(arr,x):\n",
    "    l = len(arr)\n",
    "    if l ==0:\n",
    "        return -1\n",
    "    if arr[0]==x:\n",
    "        return 0\n",
    "    smallerlist = arr[1:]\n",
    "    smallerlistoutput= firstIndex(smallerlist,x)\n",
    "    \n",
    "    if smallerlistoutput == -1:\n",
    "        return -1\n",
    "    else:\n",
    "        return smallerlistoutput+1\n",
    "    \n",
    "    \n",
    "n = int(input())\n",
    "arr = [int(i) for i in input().split()]\n",
    "x = int(input())\n",
    "firstIndex(arr,x)    "
   ]
  },
  {
   "cell_type": "code",
   "execution_count": 15,
   "metadata": {},
   "outputs": [],
   "source": [
    "def firstIndexx(arr,x,si):\n",
    "    l = len(arr)\n",
    "    if si == l:\n",
    "        return -1\n",
    "    if arr[0] ==x:\n",
    "        return si\n",
    "    smalleroutput = firstIndexx(arr,x,si+1)\n",
    "    return smalleroutput"
   ]
  },
  {
   "cell_type": "code",
   "execution_count": 16,
   "metadata": {},
   "outputs": [
    {
     "name": "stdout",
     "output_type": "stream",
     "text": [
      "3\n",
      "5 6 5\n",
      "5\n"
     ]
    },
    {
     "data": {
      "text/plain": [
       "0"
      ]
     },
     "execution_count": 16,
     "metadata": {},
     "output_type": "execute_result"
    }
   ],
   "source": [
    "n = int(input())\n",
    "arr = [int(i) for i in input().split()]\n",
    "x = int(input())\n",
    "firstIndexx(arr,x,0)"
   ]
  }
 ],
 "metadata": {
  "kernelspec": {
   "display_name": "Python 3",
   "language": "python",
   "name": "python3"
  },
  "language_info": {
   "codemirror_mode": {
    "name": "ipython",
    "version": 3
   },
   "file_extension": ".py",
   "mimetype": "text/x-python",
   "name": "python",
   "nbconvert_exporter": "python",
   "pygments_lexer": "ipython3",
   "version": "3.8.5"
  }
 },
 "nbformat": 4,
 "nbformat_minor": 4
}
