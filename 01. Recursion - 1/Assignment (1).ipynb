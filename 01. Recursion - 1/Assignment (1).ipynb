{
 "cells": [
  {
   "cell_type": "markdown",
   "metadata": {},
   "source": [
    "# Power Of A Number"
   ]
  },
  {
   "cell_type": "code",
   "execution_count": 2,
   "metadata": {
    "scrolled": true
   },
   "outputs": [
    {
     "name": "stdout",
     "output_type": "stream",
     "text": [
      "3 4 \n",
      "81\n"
     ]
    }
   ],
   "source": [
    "def PowerofA(x,n):\n",
    "    if x==0 and  n ==0:\n",
    "        return 1 \n",
    "    if x == 0 :\n",
    "        return 0\n",
    "    \n",
    "    \n",
    "    return x**n\n",
    "\n",
    "x,n= [int(x) for x in input().split()] \n",
    "print(PowerofA(x,n))"
   ]
  },
  {
   "cell_type": "markdown",
   "metadata": {},
   "source": [
    "# Sum Of Array"
   ]
  },
  {
   "cell_type": "code",
   "execution_count": 3,
   "metadata": {},
   "outputs": [
    {
     "name": "stdout",
     "output_type": "stream",
     "text": [
      "3\n",
      "9 8 9\n",
      "26\n"
     ]
    }
   ],
   "source": [
    "def sumArray(arr):\n",
    "    l=len(arr)\n",
    "    if l==0:\n",
    "        return 0\n",
    "    smallerlist=sumArray(arr[1:])\n",
    "    sum=arr[0]+smallerlist\n",
    "    return sum\n",
    "    pass\n",
    "\n",
    "from sys import setrecursionlimit\n",
    "setrecursionlimit(11000)\n",
    "n=int(input())\n",
    "arr=list(int(i) for i in input().strip().split(' '))\n",
    "print(sumArray(arr))"
   ]
  },
  {
   "cell_type": "markdown",
   "metadata": {},
   "source": [
    "# Check Number in Array"
   ]
  },
  {
   "cell_type": "code",
   "execution_count": 4,
   "metadata": {},
   "outputs": [
    {
     "name": "stdout",
     "output_type": "stream",
     "text": [
      "3\n",
      "1 2 3\n",
      "5\n",
      "false\n"
     ]
    }
   ],
   "source": [
    "def checkNumber(arr, x):\n",
    "    l = len(arr)\n",
    "    if l==1:\n",
    "        return x == arr[0]\n",
    "    smallans = checkNumber(arr[:l-1],x)\n",
    "    return smallans or (x ==arr[l-1])\n",
    "    pass\n",
    "\n",
    "from sys import setrecursionlimit\n",
    "setrecursionlimit(11000)\n",
    "n = int(input())\n",
    "arr=list(int(i) for i in input().strip().split(' '))\n",
    "x=int(input())\n",
    "if checkNumber(arr, x):\n",
    "    print('true')\n",
    "else:\n",
    "    print('false')"
   ]
  },
  {
   "cell_type": "markdown",
   "metadata": {},
   "source": [
    "# First Index of Number "
   ]
  },
  {
   "cell_type": "code",
   "execution_count": 5,
   "metadata": {
    "scrolled": true
   },
   "outputs": [
    {
     "name": "stdout",
     "output_type": "stream",
     "text": [
      "4\n",
      "9 8 10 8\n",
      "8\n",
      "1\n"
     ]
    }
   ],
   "source": [
    "def firstIndex(arr, x):\n",
    "    l = len(arr)\n",
    "    if l ==0:\n",
    "        return -1\n",
    "    if arr[0]==x:\n",
    "        return 0\n",
    "    smallerlist = arr[1:]\n",
    "    smallerlistoutput= firstIndex(smallerlist,x)\n",
    "    \n",
    "    if smallerlistoutput == -1:\n",
    "        return -1\n",
    "    else:\n",
    "        return smallerlistoutput+1\n",
    "    \n",
    "    pass\n",
    "\n",
    "from sys import setrecursionlimit\n",
    "setrecursionlimit(11000)\n",
    "n=int(input())\n",
    "arr=list(int(i) for i in input().strip().split(' '))\n",
    "x=int(input())\n",
    "print(firstIndex(arr, x))"
   ]
  },
  {
   "cell_type": "markdown",
   "metadata": {},
   "source": [
    "# Last Index Of Number Question\n"
   ]
  },
  {
   "cell_type": "code",
   "execution_count": 6,
   "metadata": {},
   "outputs": [
    {
     "name": "stdout",
     "output_type": "stream",
     "text": [
      "5\n",
      "1 2 5 2 6\n",
      "2\n",
      "3\n"
     ]
    }
   ],
   "source": [
    "def lastindex(arr,x):\n",
    "    l = len(arr)\n",
    "    if l ==0:\n",
    "        return -1\n",
    "    smalleroutput = arr[1:]\n",
    "    smallerlistoutput =lastindex(smalleroutput,x)\n",
    "    if smallerlistoutput != -1:\n",
    "        return smallerlistoutput + 1\n",
    "    else:\n",
    "        if arr[0]==x:\n",
    "            return 0\n",
    "        else:\n",
    "            return -1\n",
    "        \n",
    "from sys import setrecursionlimit\n",
    "setrecursionlimit(11000)\n",
    "n=int(input())\n",
    "arr=list(int(i) for i in input().strip().split(' '))\n",
    "x=int(input())\n",
    "print(lastindex(arr, x))"
   ]
  }
 ],
 "metadata": {
  "kernelspec": {
   "display_name": "Python 3",
   "language": "python",
   "name": "python3"
  },
  "language_info": {
   "codemirror_mode": {
    "name": "ipython",
    "version": 3
   },
   "file_extension": ".py",
   "mimetype": "text/x-python",
   "name": "python",
   "nbconvert_exporter": "python",
   "pygments_lexer": "ipython3",
   "version": "3.8.5"
  }
 },
 "nbformat": 4,
 "nbformat_minor": 4
}
