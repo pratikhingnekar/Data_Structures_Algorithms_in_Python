{
 "cells": [
  {
   "cell_type": "code",
   "execution_count": 1,
   "metadata": {
    "scrolled": true
   },
   "outputs": [
    {
     "name": "stdout",
     "output_type": "stream",
     "text": [
      "name =  Parikh\n",
      "percentage= 80\n",
      "Student is passed\n"
     ]
    },
    {
     "ename": "TypeError",
     "evalue": "welcometocschool() takes 0 positional arguments but 1 was given",
     "output_type": "error",
     "traceback": [
      "\u001b[1;31m---------------------------------------------------------------------------\u001b[0m",
      "\u001b[1;31mTypeError\u001b[0m                                 Traceback (most recent call last)",
      "\u001b[1;32m<ipython-input-1-c3403efee308>\u001b[0m in \u001b[0;36m<module>\u001b[1;34m\u001b[0m\n\u001b[0;32m     24\u001b[0m \u001b[0ms1\u001b[0m\u001b[1;33m.\u001b[0m\u001b[0mStudentdetails\u001b[0m\u001b[1;33m(\u001b[0m\u001b[1;33m)\u001b[0m\u001b[1;33m\u001b[0m\u001b[1;33m\u001b[0m\u001b[0m\n\u001b[0;32m     25\u001b[0m \u001b[0ms1\u001b[0m\u001b[1;33m.\u001b[0m\u001b[0misPassed\u001b[0m\u001b[1;33m(\u001b[0m\u001b[1;33m)\u001b[0m\u001b[1;33m\u001b[0m\u001b[1;33m\u001b[0m\u001b[0m\n\u001b[1;32m---> 26\u001b[1;33m \u001b[0ms1\u001b[0m\u001b[1;33m.\u001b[0m\u001b[0mwelcometocschool\u001b[0m\u001b[1;33m(\u001b[0m\u001b[1;33m)\u001b[0m\u001b[1;33m\u001b[0m\u001b[1;33m\u001b[0m\u001b[0m\n\u001b[0m",
      "\u001b[1;31mTypeError\u001b[0m: welcometocschool() takes 0 positional arguments but 1 was given"
     ]
    }
   ],
   "source": [
    "class Student():\n",
    "    \n",
    "    passingPercentage = 40\n",
    "    \n",
    "    def Studentdetails(self):\n",
    "        self.name = 'Parikh'\n",
    "        self.percentage = 80\n",
    "        print('name = ',self.name)\n",
    "        print('percentage=',self.percentage)\n",
    "        pass\n",
    "    \n",
    "    def isPassed(self):\n",
    "        if self.percentage > Student.passingPercentage:\n",
    "            print('Student is passed')\n",
    "        else:\n",
    "            print('not passed')\n",
    "            \n",
    "      \n",
    "    def welcometocschool():\n",
    "        print('hey welcometoschool')\n",
    "    \n",
    "            \n",
    "s1 = Student()\n",
    "s1.Studentdetails()\n",
    "s1.isPassed()                    \n",
    "s1.welcometocschool()"
   ]
  },
  {
   "cell_type": "code",
   "execution_count": 2,
   "metadata": {},
   "outputs": [
    {
     "name": "stdout",
     "output_type": "stream",
     "text": [
      "name =  Parikh\n",
      "percentage= 80\n",
      "Student is passed\n",
      "hey welcometoschool\n"
     ]
    }
   ],
   "source": [
    "class Student():\n",
    "    \n",
    "    passingPercentage = 40\n",
    "    \n",
    "    def Studentdetails(self):\n",
    "        self.name = 'Parikh'\n",
    "        self.percentage = 80\n",
    "        print('name = ',self.name)\n",
    "        print('percentage=',self.percentage)\n",
    "        pass\n",
    "    \n",
    "    def isPassed(self):\n",
    "        if self.percentage > Student.passingPercentage:\n",
    "            print('Student is passed')\n",
    "        else:\n",
    "            print('not passed')\n",
    "            \n",
    "    \n",
    "    @staticmethod        \n",
    "    def welcometocschool():\n",
    "        print('hey welcometoschool')\n",
    "    \n",
    "            \n",
    "s1 = Student()\n",
    "s1.Studentdetails()\n",
    "s1.isPassed()                    \n",
    "s1.welcometocschool()"
   ]
  }
 ],
 "metadata": {
  "kernelspec": {
   "display_name": "Python 3",
   "language": "python",
   "name": "python3"
  },
  "language_info": {
   "codemirror_mode": {
    "name": "ipython",
    "version": 3
   },
   "file_extension": ".py",
   "mimetype": "text/x-python",
   "name": "python",
   "nbconvert_exporter": "python",
   "pygments_lexer": "ipython3",
   "version": "3.8.5"
  }
 },
 "nbformat": 4,
 "nbformat_minor": 4
}
