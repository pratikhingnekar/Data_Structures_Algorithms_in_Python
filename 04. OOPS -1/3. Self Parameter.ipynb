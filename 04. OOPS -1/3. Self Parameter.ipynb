{
 "cells": [
  {
   "cell_type": "code",
   "execution_count": 1,
   "metadata": {},
   "outputs": [],
   "source": [
    "class Student():\n",
    "    \n",
    "    def Studentdetails(self):\n",
    "        self.name = 'Parikh'\n",
    "        print('name = ',self.name)"
   ]
  },
  {
   "cell_type": "code",
   "execution_count": 2,
   "metadata": {},
   "outputs": [],
   "source": [
    "s1 = Student()"
   ]
  },
  {
   "cell_type": "code",
   "execution_count": 3,
   "metadata": {},
   "outputs": [
    {
     "name": "stdout",
     "output_type": "stream",
     "text": [
      "name =  Parikh\n"
     ]
    }
   ],
   "source": [
    "s1.Studentdetails()"
   ]
  },
  {
   "cell_type": "code",
   "execution_count": 4,
   "metadata": {
    "scrolled": true
   },
   "outputs": [
    {
     "name": "stdout",
     "output_type": "stream",
     "text": [
      "name =  Parikh\n"
     ]
    }
   ],
   "source": [
    "Student.Studentdetails(s1)\n",
    "#class_name function (objectname)"
   ]
  },
  {
   "cell_type": "code",
   "execution_count": 5,
   "metadata": {
    "scrolled": true
   },
   "outputs": [
    {
     "name": "stdout",
     "output_type": "stream",
     "text": [
      "name =  Parikh\n",
      "percentage= 80\n"
     ]
    }
   ],
   "source": [
    "class Student():\n",
    "    \n",
    "    def Studentdetails(self):\n",
    "        self.name = 'Parikh'\n",
    "        percentage = 80\n",
    "        print('name = ',self.name)\n",
    "        print('percentage=',percentage)\n",
    "        pass\n",
    "    \n",
    "s1 = Student()\n",
    "s1.Studentdetails()"
   ]
  },
  {
   "cell_type": "code",
   "execution_count": 37,
   "metadata": {
    "scrolled": false
   },
   "outputs": [
    {
     "name": "stdout",
     "output_type": "stream",
     "text": [
      "name =  Parikh\n",
      "percentage= 80\n"
     ]
    },
    {
     "ename": "AttributeError",
     "evalue": "'Student' object has no attribute 'passed'",
     "output_type": "error",
     "traceback": [
      "\u001b[1;31m---------------------------------------------------------------------------\u001b[0m",
      "\u001b[1;31mAttributeError\u001b[0m                            Traceback (most recent call last)",
      "\u001b[1;32m<ipython-input-37-467c2546f2b7>\u001b[0m in \u001b[0;36m<module>\u001b[1;34m\u001b[0m\n\u001b[0;32m     18\u001b[0m \u001b[0ms1\u001b[0m \u001b[1;33m=\u001b[0m \u001b[0mStudent\u001b[0m\u001b[1;33m(\u001b[0m\u001b[1;33m)\u001b[0m\u001b[1;33m\u001b[0m\u001b[1;33m\u001b[0m\u001b[0m\n\u001b[0;32m     19\u001b[0m \u001b[0ms1\u001b[0m\u001b[1;33m.\u001b[0m\u001b[0mStudentdetails\u001b[0m\u001b[1;33m(\u001b[0m\u001b[1;33m)\u001b[0m\u001b[1;33m\u001b[0m\u001b[1;33m\u001b[0m\u001b[0m\n\u001b[1;32m---> 20\u001b[1;33m \u001b[0ms1\u001b[0m\u001b[1;33m.\u001b[0m\u001b[0mpassed\u001b[0m\u001b[1;33m(\u001b[0m\u001b[1;33m)\u001b[0m\u001b[1;33m\u001b[0m\u001b[1;33m\u001b[0m\u001b[0m\n\u001b[0m\u001b[0;32m     21\u001b[0m \u001b[1;33m\u001b[0m\u001b[0m\n\u001b[0;32m     22\u001b[0m \u001b[1;31m#due to percentage is local attribute rather than a instance attribute.\u001b[0m\u001b[1;33m\u001b[0m\u001b[1;33m\u001b[0m\u001b[1;33m\u001b[0m\u001b[0m\n",
      "\u001b[1;31mAttributeError\u001b[0m: 'Student' object has no attribute 'passed'"
     ]
    }
   ],
   "source": [
    "class Student():\n",
    "    \n",
    "    def Studentdetails(self):\n",
    "        self.name = 'Parikh'\n",
    "        percentage = 80\n",
    "        print('name = ',self.name)\n",
    "        print('percentage=',percentage)\n",
    "        pass\n",
    "    \n",
    "    def isPassed():\n",
    "        if percentage > Student.passingPercentage:\n",
    "            print('Student is passed')\n",
    "        else:\n",
    "            print('not passed')\n",
    "        \n",
    "    \n",
    "    \n",
    "s1 = Student()\n",
    "s1.Studentdetails()\n",
    "s1.passed()\n",
    "\n",
    "#due to percentage is local attribute rather than a instance attribute."
   ]
  },
  {
   "cell_type": "code",
   "execution_count": 38,
   "metadata": {},
   "outputs": [
    {
     "name": "stdout",
     "output_type": "stream",
     "text": [
      "name =  Parikh\n",
      "percentage= 80\n",
      "Student is passed\n"
     ]
    }
   ],
   "source": [
    "class Student():\n",
    "    \n",
    "    passingPercentage = 40\n",
    "    \n",
    "    def Studentdetails(self):\n",
    "        self.name = 'Parikh'\n",
    "        self.percentage = 80\n",
    "        print('name = ',self.name)\n",
    "        print('percentage=',self.percentage)\n",
    "        pass\n",
    "    \n",
    "    def isPassed(self):\n",
    "        if self.percentage > Student.passingPercentage:\n",
    "            print('Student is passed')\n",
    "        else:\n",
    "            print('not passed')\n",
    "            \n",
    "\n",
    "    \n",
    "            \n",
    "s1 = Student()\n",
    "s1.Studentdetails()\n",
    "s1.isPassed()                    "
   ]
  }
 ],
 "metadata": {
  "kernelspec": {
   "display_name": "Python 3",
   "language": "python",
   "name": "python3"
  },
  "language_info": {
   "codemirror_mode": {
    "name": "ipython",
    "version": 3
   },
   "file_extension": ".py",
   "mimetype": "text/x-python",
   "name": "python",
   "nbconvert_exporter": "python",
   "pygments_lexer": "ipython3",
   "version": "3.8.5"
  }
 },
 "nbformat": 4,
 "nbformat_minor": 4
}
